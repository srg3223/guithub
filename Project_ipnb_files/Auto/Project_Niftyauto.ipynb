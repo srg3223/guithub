{
  "nbformat": 4,
  "nbformat_minor": 0,
  "metadata": {
    "colab": {
      "name": "Project_Niftyauto.ipynb",
      "provenance": []
    },
    "kernelspec": {
      "name": "python3",
      "display_name": "Python 3"
    },
    "language_info": {
      "name": "python"
    }
  },
  "cells": [
    {
      "cell_type": "code",
      "execution_count": null,
      "metadata": {
        "id": "HdoFYJj52895"
      },
      "outputs": [],
      "source": [
        "import math\n",
        "import numpy as np\n",
        "import pandas as pd\n",
        "from sklearn.preprocessing import MinMaxScaler\n",
        "from tensorflow.keras.models import Sequential\n",
        "from tensorflow.keras.layers import Dense, LSTM\n",
        "import matplotlib.pyplot as plt"
      ]
    },
    {
      "cell_type": "code",
      "source": [
        "from google.colab import drive\n",
        "drive.mount('/content/drive')"
      ],
      "metadata": {
        "colab": {
          "base_uri": "https://localhost:8080/"
        },
        "id": "MHs94axN3AK9",
        "outputId": "efdb8501-7572-4900-e751-0165c1543c39"
      },
      "execution_count": null,
      "outputs": [
        {
          "output_type": "stream",
          "name": "stdout",
          "text": [
            "Mounted at /content/drive\n"
          ]
        }
      ]
    },
    {
      "cell_type": "code",
      "source": [
        "path=\"/content/drive/MyDrive/selected/NIFTY AUTO/NIFTY_AUTO__EQ__INDICES__NSE__MINUTE.csv\"\n",
        "\n",
        "df=pd.read_csv(path)\n",
        "df.head()"
      ],
      "metadata": {
        "colab": {
          "base_uri": "https://localhost:8080/",
          "height": 206
        },
        "id": "z4izPoRn3F4m",
        "outputId": "85dcbd22-bbf4-4921-a255-21681984a6d8"
      },
      "execution_count": null,
      "outputs": [
        {
          "output_type": "execute_result",
          "data": {
            "text/html": [
              "\n",
              "  <div id=\"df-9b7104d8-294a-47b8-b09e-8719f48fccd1\">\n",
              "    <div class=\"colab-df-container\">\n",
              "      <div>\n",
              "<style scoped>\n",
              "    .dataframe tbody tr th:only-of-type {\n",
              "        vertical-align: middle;\n",
              "    }\n",
              "\n",
              "    .dataframe tbody tr th {\n",
              "        vertical-align: top;\n",
              "    }\n",
              "\n",
              "    .dataframe thead th {\n",
              "        text-align: right;\n",
              "    }\n",
              "</style>\n",
              "<table border=\"1\" class=\"dataframe\">\n",
              "  <thead>\n",
              "    <tr style=\"text-align: right;\">\n",
              "      <th></th>\n",
              "      <th>timestamp</th>\n",
              "      <th>open</th>\n",
              "      <th>high</th>\n",
              "      <th>low</th>\n",
              "      <th>close</th>\n",
              "      <th>volume</th>\n",
              "    </tr>\n",
              "  </thead>\n",
              "  <tbody>\n",
              "    <tr>\n",
              "      <th>0</th>\n",
              "      <td>2017-01-02 09:15:00+05:30</td>\n",
              "      <td>9169.95</td>\n",
              "      <td>9193.65</td>\n",
              "      <td>9163.55</td>\n",
              "      <td>9176.90</td>\n",
              "      <td>0.0</td>\n",
              "    </tr>\n",
              "    <tr>\n",
              "      <th>1</th>\n",
              "      <td>2017-01-02 09:16:00+05:30</td>\n",
              "      <td>9176.80</td>\n",
              "      <td>9187.70</td>\n",
              "      <td>9161.85</td>\n",
              "      <td>9162.40</td>\n",
              "      <td>0.0</td>\n",
              "    </tr>\n",
              "    <tr>\n",
              "      <th>2</th>\n",
              "      <td>2017-01-02 09:17:00+05:30</td>\n",
              "      <td>9161.35</td>\n",
              "      <td>9162.10</td>\n",
              "      <td>9129.85</td>\n",
              "      <td>9129.85</td>\n",
              "      <td>0.0</td>\n",
              "    </tr>\n",
              "    <tr>\n",
              "      <th>3</th>\n",
              "      <td>2017-01-02 09:18:00+05:30</td>\n",
              "      <td>9129.60</td>\n",
              "      <td>9132.40</td>\n",
              "      <td>9123.55</td>\n",
              "      <td>9132.40</td>\n",
              "      <td>0.0</td>\n",
              "    </tr>\n",
              "    <tr>\n",
              "      <th>4</th>\n",
              "      <td>2017-01-02 09:19:00+05:30</td>\n",
              "      <td>9133.30</td>\n",
              "      <td>9135.90</td>\n",
              "      <td>9123.35</td>\n",
              "      <td>9123.35</td>\n",
              "      <td>0.0</td>\n",
              "    </tr>\n",
              "  </tbody>\n",
              "</table>\n",
              "</div>\n",
              "      <button class=\"colab-df-convert\" onclick=\"convertToInteractive('df-9b7104d8-294a-47b8-b09e-8719f48fccd1')\"\n",
              "              title=\"Convert this dataframe to an interactive table.\"\n",
              "              style=\"display:none;\">\n",
              "        \n",
              "  <svg xmlns=\"http://www.w3.org/2000/svg\" height=\"24px\"viewBox=\"0 0 24 24\"\n",
              "       width=\"24px\">\n",
              "    <path d=\"M0 0h24v24H0V0z\" fill=\"none\"/>\n",
              "    <path d=\"M18.56 5.44l.94 2.06.94-2.06 2.06-.94-2.06-.94-.94-2.06-.94 2.06-2.06.94zm-11 1L8.5 8.5l.94-2.06 2.06-.94-2.06-.94L8.5 2.5l-.94 2.06-2.06.94zm10 10l.94 2.06.94-2.06 2.06-.94-2.06-.94-.94-2.06-.94 2.06-2.06.94z\"/><path d=\"M17.41 7.96l-1.37-1.37c-.4-.4-.92-.59-1.43-.59-.52 0-1.04.2-1.43.59L10.3 9.45l-7.72 7.72c-.78.78-.78 2.05 0 2.83L4 21.41c.39.39.9.59 1.41.59.51 0 1.02-.2 1.41-.59l7.78-7.78 2.81-2.81c.8-.78.8-2.07 0-2.86zM5.41 20L4 18.59l7.72-7.72 1.47 1.35L5.41 20z\"/>\n",
              "  </svg>\n",
              "      </button>\n",
              "      \n",
              "  <style>\n",
              "    .colab-df-container {\n",
              "      display:flex;\n",
              "      flex-wrap:wrap;\n",
              "      gap: 12px;\n",
              "    }\n",
              "\n",
              "    .colab-df-convert {\n",
              "      background-color: #E8F0FE;\n",
              "      border: none;\n",
              "      border-radius: 50%;\n",
              "      cursor: pointer;\n",
              "      display: none;\n",
              "      fill: #1967D2;\n",
              "      height: 32px;\n",
              "      padding: 0 0 0 0;\n",
              "      width: 32px;\n",
              "    }\n",
              "\n",
              "    .colab-df-convert:hover {\n",
              "      background-color: #E2EBFA;\n",
              "      box-shadow: 0px 1px 2px rgba(60, 64, 67, 0.3), 0px 1px 3px 1px rgba(60, 64, 67, 0.15);\n",
              "      fill: #174EA6;\n",
              "    }\n",
              "\n",
              "    [theme=dark] .colab-df-convert {\n",
              "      background-color: #3B4455;\n",
              "      fill: #D2E3FC;\n",
              "    }\n",
              "\n",
              "    [theme=dark] .colab-df-convert:hover {\n",
              "      background-color: #434B5C;\n",
              "      box-shadow: 0px 1px 3px 1px rgba(0, 0, 0, 0.15);\n",
              "      filter: drop-shadow(0px 1px 2px rgba(0, 0, 0, 0.3));\n",
              "      fill: #FFFFFF;\n",
              "    }\n",
              "  </style>\n",
              "\n",
              "      <script>\n",
              "        const buttonEl =\n",
              "          document.querySelector('#df-9b7104d8-294a-47b8-b09e-8719f48fccd1 button.colab-df-convert');\n",
              "        buttonEl.style.display =\n",
              "          google.colab.kernel.accessAllowed ? 'block' : 'none';\n",
              "\n",
              "        async function convertToInteractive(key) {\n",
              "          const element = document.querySelector('#df-9b7104d8-294a-47b8-b09e-8719f48fccd1');\n",
              "          const dataTable =\n",
              "            await google.colab.kernel.invokeFunction('convertToInteractive',\n",
              "                                                     [key], {});\n",
              "          if (!dataTable) return;\n",
              "\n",
              "          const docLinkHtml = 'Like what you see? Visit the ' +\n",
              "            '<a target=\"_blank\" href=https://colab.research.google.com/notebooks/data_table.ipynb>data table notebook</a>'\n",
              "            + ' to learn more about interactive tables.';\n",
              "          element.innerHTML = '';\n",
              "          dataTable['output_type'] = 'display_data';\n",
              "          await google.colab.output.renderOutput(dataTable, element);\n",
              "          const docLink = document.createElement('div');\n",
              "          docLink.innerHTML = docLinkHtml;\n",
              "          element.appendChild(docLink);\n",
              "        }\n",
              "      </script>\n",
              "    </div>\n",
              "  </div>\n",
              "  "
            ],
            "text/plain": [
              "                   timestamp     open     high      low    close  volume\n",
              "0  2017-01-02 09:15:00+05:30  9169.95  9193.65  9163.55  9176.90     0.0\n",
              "1  2017-01-02 09:16:00+05:30  9176.80  9187.70  9161.85  9162.40     0.0\n",
              "2  2017-01-02 09:17:00+05:30  9161.35  9162.10  9129.85  9129.85     0.0\n",
              "3  2017-01-02 09:18:00+05:30  9129.60  9132.40  9123.55  9132.40     0.0\n",
              "4  2017-01-02 09:19:00+05:30  9133.30  9135.90  9123.35  9123.35     0.0"
            ]
          },
          "metadata": {},
          "execution_count": 3
        }
      ]
    },
    {
      "cell_type": "code",
      "source": [
        "df['date']=pd.to_datetime(df['timestamp'])\n",
        "df.set_index('date',inplace=True)"
      ],
      "metadata": {
        "id": "6fbuxgVG3eUW"
      },
      "execution_count": null,
      "outputs": []
    },
    {
      "cell_type": "code",
      "source": [
        "df.isnull().sum()"
      ],
      "metadata": {
        "colab": {
          "base_uri": "https://localhost:8080/"
        },
        "id": "oltaqWPv3hbH",
        "outputId": "fd53af96-78e1-4e6a-869b-95c1f9954541"
      },
      "execution_count": null,
      "outputs": [
        {
          "output_type": "execute_result",
          "data": {
            "text/plain": [
              "timestamp     0\n",
              "open         63\n",
              "high         63\n",
              "low          63\n",
              "close        63\n",
              "volume       63\n",
              "dtype: int64"
            ]
          },
          "metadata": {},
          "execution_count": 5
        }
      ]
    },
    {
      "cell_type": "code",
      "source": [
        "df=df.dropna(how='any')"
      ],
      "metadata": {
        "id": "Tp3oRir03mEW"
      },
      "execution_count": null,
      "outputs": []
    },
    {
      "cell_type": "code",
      "source": [
        "df.isnull().sum()"
      ],
      "metadata": {
        "colab": {
          "base_uri": "https://localhost:8080/"
        },
        "id": "WMqxrxOu3rR9",
        "outputId": "51b1c480-133d-4a8a-a08b-a101bed2b1ee"
      },
      "execution_count": null,
      "outputs": [
        {
          "output_type": "execute_result",
          "data": {
            "text/plain": [
              "timestamp    0\n",
              "open         0\n",
              "high         0\n",
              "low          0\n",
              "close        0\n",
              "volume       0\n",
              "dtype: int64"
            ]
          },
          "metadata": {},
          "execution_count": 7
        }
      ]
    },
    {
      "cell_type": "markdown",
      "source": [
        "### Ploting Close Price History using matplotlib"
      ],
      "metadata": {
        "id": "dqKn9whL3zxv"
      }
    },
    {
      "cell_type": "code",
      "source": [
        "import seaborn as sns\n",
        "plt.figure(figsize=(16,8))\n",
        "plt.title('Close Price History')\n",
        "plt.plot(df['close'])\n",
        "#ax=sns.lineplot(data=df, x='timestamp',y='close', color=\"blue\");\n",
        "plt.xlabel('timestamp',fontsize=18)\n",
        "plt.ylabel('Close Price INR',fontsize=18)\n",
        "plt.show()"
      ],
      "metadata": {
        "colab": {
          "base_uri": "https://localhost:8080/",
          "height": 520
        },
        "id": "JewI8pga3tnw",
        "outputId": "1b5037e0-40a5-4b06-d4ff-1bd62f7a07da"
      },
      "execution_count": null,
      "outputs": [
        {
          "output_type": "display_data",
          "data": {
            "image/png": "[encoded data removed]",
            "text/plain": [
              "<Figure size 1152x576 with 1 Axes>"
            ]
          },
          "metadata": {
            "needs_background": "light"
          }
        }
      ]
    },
    {
      "cell_type": "markdown",
      "source": [
        "### Converting data to a numpy array"
      ],
      "metadata": {
        "id": "y1EpMPk535r7"
      }
    },
    {
      "cell_type": "code",
      "source": [
        "data = df.filter(['close'])\n",
        "dataset = data.values\n",
        "training_data_len = math.ceil( len(dataset) *.8) "
      ],
      "metadata": {
        "id": "l7p7tNih32dW"
      },
      "execution_count": null,
      "outputs": []
    },
    {
      "cell_type": "markdown",
      "source": [
        "### Transforming the dataset array to range between 0 and 1"
      ],
      "metadata": {
        "id": "mVdN2IDB4D8T"
      }
    },
    {
      "cell_type": "code",
      "source": [
        "scaler = MinMaxScaler(feature_range=(0, 1)) \n",
        "scaled_data = scaler.fit_transform(dataset)"
      ],
      "metadata": {
        "id": "iI9yVEp74BAC"
      },
      "execution_count": null,
      "outputs": []
    },
    {
      "cell_type": "code",
      "source": [
        "train_data = scaled_data[0:training_data_len  , : ]\n",
        "x_train=[]\n",
        "y_train = []\n",
        "for i in range(60,len(train_data)):\n",
        "    x_train.append(train_data[i-60:i,0])\n",
        "    y_train.append(train_data[i,0])"
      ],
      "metadata": {
        "id": "wsukSFLd4GdK"
      },
      "execution_count": null,
      "outputs": []
    },
    {
      "cell_type": "markdown",
      "source": [
        "### Spliting data for training and testing"
      ],
      "metadata": {
        "id": "FctGNrx_4QK8"
      }
    },
    {
      "cell_type": "code",
      "source": [
        "x_train, y_train = np.array(x_train), np.array(y_train)"
      ],
      "metadata": {
        "id": "DmFYHace4IM1"
      },
      "execution_count": null,
      "outputs": []
    },
    {
      "cell_type": "code",
      "source": [
        "x_train = np.reshape(x_train, (x_train.shape[0],x_train.shape[1],1))"
      ],
      "metadata": {
        "id": "iS61rlSW4Ts6"
      },
      "execution_count": null,
      "outputs": []
    },
    {
      "cell_type": "markdown",
      "source": [
        "### Building a LSTM Model for Stock Market Prediction"
      ],
      "metadata": {
        "id": "so1T7OMW4Zy7"
      }
    },
    {
      "cell_type": "code",
      "source": [
        "model = Sequential()\n",
        "model.add(LSTM(units=50, return_sequences=True,input_shape=(x_train.shape[1],1)))\n",
        "model.add(LSTM(units=50, return_sequences=False))\n",
        "model.add(Dense(units=25))\n",
        "model.add(Dense(units=1))"
      ],
      "metadata": {
        "id": "4CQdLkEA4XwR"
      },
      "execution_count": null,
      "outputs": []
    },
    {
      "cell_type": "markdown",
      "source": [
        "### Using adam optimizer and mean_squared_error as the loss function"
      ],
      "metadata": {
        "id": "8igSzHPt4eUG"
      }
    },
    {
      "cell_type": "code",
      "source": [
        "model.compile(optimizer='adam', loss='mean_squared_error')"
      ],
      "metadata": {
        "id": "t_cP8Mo64cAW"
      },
      "execution_count": null,
      "outputs": []
    },
    {
      "cell_type": "code",
      "source": [
        "model.fit(x_train, y_train, batch_size=64, epochs=1)"
      ],
      "metadata": {
        "colab": {
          "base_uri": "https://localhost:8080/"
        },
        "id": "Jta0CqLu4iPY",
        "outputId": "1a15f2a5-4730-4e6d-9917-b60f17a86845"
      },
      "execution_count": null,
      "outputs": [
        {
          "output_type": "stream",
          "name": "stdout",
          "text": [
            "4633/4633 [==============================] - 354s 75ms/step - loss: 4.8183e-04\n"
          ]
        },
        {
          "output_type": "execute_result",
          "data": {
            "text/plain": [
              "<keras.callbacks.History at 0x7f5b43cd5c50>"
            ]
          },
          "metadata": {},
          "execution_count": 16
        }
      ]
    },
    {
      "cell_type": "code",
      "source": [
        "test_data = scaled_data[training_data_len - 60: , : ]#Create the x_test and y_test data sets\n",
        "x_test = []\n",
        "y_test =  dataset[training_data_len : , : ] \n",
        "for i in range(60,len(test_data)):\n",
        "    x_test.append(test_data[i-60:i,0])"
      ],
      "metadata": {
        "id": "Lzv66KG64j71"
      },
      "execution_count": null,
      "outputs": []
    },
    {
      "cell_type": "code",
      "source": [
        "x_test = np.array(x_test)"
      ],
      "metadata": {
        "id": "8gc-YvzG6Oz0"
      },
      "execution_count": null,
      "outputs": []
    },
    {
      "cell_type": "code",
      "source": [
        "x_test = np.reshape(x_test, (x_test.shape[0],x_test.shape[1],1))"
      ],
      "metadata": {
        "id": "vfaybXO-6QeC"
      },
      "execution_count": null,
      "outputs": []
    },
    {
      "cell_type": "code",
      "source": [
        "predictions = model.predict(x_test) \n",
        "predictions = scaler.inverse_transform(predictions)"
      ],
      "metadata": {
        "id": "M0xMTOPu6SJc"
      },
      "execution_count": null,
      "outputs": []
    },
    {
      "cell_type": "markdown",
      "source": [
        "### Finding the root mean squared error"
      ],
      "metadata": {
        "id": "HBs7zR_56i1C"
      }
    },
    {
      "cell_type": "code",
      "source": [
        "rmse=np.sqrt(np.mean(((predictions- y_test)**2)))\n",
        "rmse"
      ],
      "metadata": {
        "colab": {
          "base_uri": "https://localhost:8080/"
        },
        "id": "0pSegzvt6T00",
        "outputId": "5d9a5c5f-1d98-4210-e933-65b14181a5ce"
      },
      "execution_count": null,
      "outputs": [
        {
          "output_type": "execute_result",
          "data": {
            "text/plain": [
              "42.59811593361848"
            ]
          },
          "metadata": {},
          "execution_count": 21
        }
      ]
    },
    {
      "cell_type": "markdown",
      "source": [
        "### Plotting the predicted values"
      ],
      "metadata": {
        "id": "aTazq63T6rBo"
      }
    },
    {
      "cell_type": "code",
      "source": [
        "train = data[:training_data_len]\n",
        "display = data[training_data_len:]\n",
        "display['Predictions'] = predictions#Visualize the data\n",
        "plt.figure(figsize=(16,8))\n",
        "plt.title('Model')\n",
        "plt.xlabel('Date', fontsize=18)\n",
        "plt.ylabel('Close Price INR', fontsize=18)\n",
        "plt.plot(train['close'])\n",
        "plt.plot(display['close'])\n",
        "plt.plot(display['Predictions'])\n",
        "plt.legend(['Train', 'Val', 'Predictions'], loc='upper right')\n",
        "plt.show()"
      ],
      "metadata": {
        "colab": {
          "base_uri": "https://localhost:8080/",
          "height": 625
        },
        "id": "9Cl43uV-6oTG",
        "outputId": "1fbf788b-f12e-4604-b6aa-76d30cf07b9c"
      },
      "execution_count": null,
      "outputs": [
        {
          "output_type": "stream",
          "name": "stderr",
          "text": [
            "/usr/local/lib/python3.7/dist-packages/ipykernel_launcher.py:3: SettingWithCopyWarning: \n",
            "A value is trying to be set on a copy of a slice from a DataFrame.\n",
            "Try using .loc[row_indexer,col_indexer] = value instead\n",
            "\n",
            "See the caveats in the documentation: https://pandas.pydata.org/pandas-docs/stable/user_guide/indexing.html#returning-a-view-versus-a-copy\n",
            "  This is separate from the ipykernel package so we can avoid doing imports until\n"
          ]
        },
        {
          "output_type": "display_data",
          "data": {
            "image/png": "[encoded data removed]",
            "text/plain": [
              "<Figure size 1152x576 with 1 Axes>"
            ]
          },
          "metadata": {
            "needs_background": "light"
          }
        }
      ]
    },
    {
      "cell_type": "code",
      "source": [
        ""
      ],
      "metadata": {
        "id": "PS-3qFod6t0r"
      },
      "execution_count": null,
      "outputs": []
    }
  ]
}